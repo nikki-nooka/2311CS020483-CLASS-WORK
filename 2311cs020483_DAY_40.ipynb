{
  "nbformat": 4,
  "nbformat_minor": 0,
  "metadata": {
    "colab": {
      "provenance": []
    },
    "kernelspec": {
      "name": "python3",
      "display_name": "Python 3"
    },
    "language_info": {
      "name": "python"
    }
  },
  "cells": [
    {
      "cell_type": "code",
      "execution_count": 8,
      "metadata": {
        "id": "XZt7vKGaumwY"
      },
      "outputs": [],
      "source": [
        "from pandas import read_csv\n",
        "from sklearn.model_selection import KFold\n",
        "from sklearn.model_selection import cross_val_score\n",
        "from sklearn.ensemble import RandomForestClassifier"
      ]
    },
    {
      "cell_type": "code",
      "source": [
        "file_name = \"/content/pima-indians-diabetes.data.csv\"\n",
        "names = ['preg','plas','skin','test','mass','pedi','age','class']\n",
        "dataframe = read_csv(file_name, names=names)\n",
        "array = dataframe.values"
      ],
      "metadata": {
        "id": "qKp7aqq8vC0U"
      },
      "execution_count": 9,
      "outputs": []
    },
    {
      "cell_type": "code",
      "source": [
        "X = array[:, 0:8]\n",
        "y = array[:, 7]  # Changed the index to 7 to select the last column"
      ],
      "metadata": {
        "id": "JpNeQGD-vLOq"
      },
      "execution_count": 12,
      "outputs": []
    },
    {
      "cell_type": "code",
      "source": [
        "seed=7\n",
        "num_trees=100\n",
        "k_fold=KFold(n_splits=10, random_state=seed, shuffle=True)\n",
        "model=RandomForestClassifier(n_estimators=num_trees, max_features=3)\n",
        "results=cross_val_score(model, X, y, cv=k_fold)\n",
        "print(results.mean())"
      ],
      "metadata": {
        "colab": {
          "base_uri": "https://localhost:8080/"
        },
        "id": "Iaea-QOcv3T9",
        "outputId": "91662e27-7c9c-4901-b4b5-d811c7266aeb"
      },
      "execution_count": 16,
      "outputs": [
        {
          "output_type": "stream",
          "name": "stdout",
          "text": [
            "1.0\n"
          ]
        }
      ]
    },
    {
      "cell_type": "code",
      "source": [],
      "metadata": {
        "id": "wf41AG2zxabj"
      },
      "execution_count": 16,
      "outputs": []
    },
    {
      "cell_type": "code",
      "source": [],
      "metadata": {
        "id": "xLHzkMKyyjNC"
      },
      "execution_count": null,
      "outputs": []
    }
  ]
}